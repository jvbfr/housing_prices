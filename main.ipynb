{
 "cells": [
  {
   "cell_type": "code",
   "execution_count": null,
   "id": "1f41f237",
   "metadata": {},
   "outputs": [],
   "source": [
    "import pandas as pd\n",
    "import numpy as np\n",
    "from lib.options import jupyter_settings\n",
    "\n",
    "jupyter_settings()"
   ]
  },
  {
   "cell_type": "code",
   "execution_count": null,
   "id": "2f9054bd",
   "metadata": {},
   "outputs": [],
   "source": [
    "data = pd.read_csv(\"data/housing.csv\")\n",
    "data.sample(15)"
   ]
  },
  {
   "cell_type": "code",
   "execution_count": null,
   "id": "fdc1d8b8",
   "metadata": {},
   "outputs": [],
   "source": [
    "data.columns"
   ]
  },
  {
   "cell_type": "code",
   "execution_count": null,
   "id": "1c4d1079",
   "metadata": {},
   "outputs": [],
   "source": [
    "data.shape"
   ]
  },
  {
   "cell_type": "code",
   "execution_count": null,
   "id": "2f083788",
   "metadata": {},
   "outputs": [],
   "source": [
    "data.dtypes"
   ]
  },
  {
   "cell_type": "markdown",
   "id": "9a2232ad",
   "metadata": {},
   "source": [
    "# Diagnosis"
   ]
  },
  {
   "cell_type": "code",
   "execution_count": null,
   "id": "85339d84",
   "metadata": {},
   "outputs": [],
   "source": [
    "from lib.diagnosis import (\n",
    "    missing_values, \n",
    "    summary_num,\n",
    "    summary_cat,\n",
    "    cat_feature_analisys\n",
    ")"
   ]
  },
  {
   "cell_type": "code",
   "execution_count": null,
   "id": "926a9bc3",
   "metadata": {},
   "outputs": [],
   "source": [
    "missing_values(data)"
   ]
  },
  {
   "cell_type": "code",
   "execution_count": null,
   "id": "74a62bdc",
   "metadata": {},
   "outputs": [],
   "source": [
    "summary_num(data)"
   ]
  },
  {
   "cell_type": "code",
   "execution_count": null,
   "id": "ce85cf73",
   "metadata": {},
   "outputs": [],
   "source": [
    "summary_cat(data)"
   ]
  },
  {
   "cell_type": "code",
   "execution_count": null,
   "id": "2b40439a",
   "metadata": {},
   "outputs": [],
   "source": [
    "data[\"ocean_proximity\"].value_counts(normalize=True)"
   ]
  },
  {
   "cell_type": "code",
   "execution_count": null,
   "id": "2d2e0daa",
   "metadata": {},
   "outputs": [],
   "source": [
    "cat_feature_analisys(data[\"ocean_proximity\"], data[\"median_house_value\"])"
   ]
  },
  {
   "cell_type": "markdown",
   "id": "2aef8a35",
   "metadata": {},
   "source": [
    "# Feature Engineering"
   ]
  },
  {
   "cell_type": "code",
   "execution_count": null,
   "id": "4868b9b8",
   "metadata": {},
   "outputs": [],
   "source": [
    "from lib.feature_engineering import (\n",
    "    oversample_minority_categories\n",
    ")"
   ]
  },
  {
   "cell_type": "code",
   "execution_count": null,
   "id": "989aa84c",
   "metadata": {},
   "outputs": [],
   "source": [
    "data_over = oversample_minority_categories(\n",
    "        data, \n",
    "        \"ocean_proximity\", \n",
    "        random_state=42\n",
    ")"
   ]
  }
 ],
 "metadata": {
  "kernelspec": {
   "display_name": "base",
   "language": "python",
   "name": "python3"
  },
  "language_info": {
   "codemirror_mode": {
    "name": "ipython",
    "version": 3
   },
   "file_extension": ".py",
   "mimetype": "text/x-python",
   "name": "python",
   "nbconvert_exporter": "python",
   "pygments_lexer": "ipython3",
   "version": "3.10.9"
  }
 },
 "nbformat": 4,
 "nbformat_minor": 5
}
